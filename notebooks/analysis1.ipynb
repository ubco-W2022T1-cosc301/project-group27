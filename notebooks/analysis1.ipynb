{
 "cells": [
  {
   "cell_type": "markdown",
   "metadata": {},
   "source": [
    "# Your Name Here"
   ]
  },
  {
   "cell_type": "markdown",
   "metadata": {},
   "source": [
    "## Research question/interests\n",
    "\n",
    "\n",
    "The purpose is to find how major events cause changes to the overall grades. Events such as the pandemic shutdown of in-person classes and busdriver strikes. Also I'm curious if it is possible to see that there is some sort of event during a semester based off the grades alone without prior knowledge of the event. "
   ]
  },
  {
   "cell_type": "code",
   "execution_count": 192,
   "metadata": {},
   "outputs": [
    {
     "name": "stderr",
     "output_type": "stream",
     "text": [
      "C:\\Users\\crisp\\AppData\\Local\\Temp\\ipykernel_5996\\1341494383.py:9: DtypeWarning: Columns (3,6,11,12,13,14,15,16,17,18,19,20,21,22,23,24,25,26,27,28,29,30,31,32,33,34,35,36) have mixed types. Specify dtype option on import or set low_memory=False.\n",
      "  datafile = pd.read_csv(r'C:\\Users\\crisp\\301\\project-group27\\data\\raw\\All_Data.csv')\n"
     ]
    },
    {
     "data": {
      "text/html": [
       "<div>\n",
       "<style scoped>\n",
       "    .dataframe tbody tr th:only-of-type {\n",
       "        vertical-align: middle;\n",
       "    }\n",
       "\n",
       "    .dataframe tbody tr th {\n",
       "        vertical-align: top;\n",
       "    }\n",
       "\n",
       "    .dataframe thead th {\n",
       "        text-align: right;\n",
       "    }\n",
       "</style>\n",
       "<table border=\"1\" class=\"dataframe\">\n",
       "  <thead>\n",
       "    <tr style=\"text-align: right;\">\n",
       "      <th></th>\n",
       "      <th>Source.Name</th>\n",
       "      <th>SourceFile</th>\n",
       "      <th>Campus</th>\n",
       "      <th>Year</th>\n",
       "      <th>Session</th>\n",
       "      <th>Subject</th>\n",
       "      <th>Course</th>\n",
       "      <th>Remove</th>\n",
       "      <th>Section</th>\n",
       "      <th>Title</th>\n",
       "      <th>...</th>\n",
       "      <th>'50-54</th>\n",
       "      <th>'55-59</th>\n",
       "      <th>'60-63</th>\n",
       "      <th>'64-67</th>\n",
       "      <th>'68-71</th>\n",
       "      <th>'72-75</th>\n",
       "      <th>'76-79</th>\n",
       "      <th>'80-84</th>\n",
       "      <th>'85-89</th>\n",
       "      <th>'90-100</th>\n",
       "    </tr>\n",
       "  </thead>\n",
       "  <tbody>\n",
       "    <tr>\n",
       "      <th>0</th>\n",
       "      <td>DataUBC.csv</td>\n",
       "      <td>Source File</td>\n",
       "      <td>Campus</td>\n",
       "      <td>Year</td>\n",
       "      <td>Session</td>\n",
       "      <td>Subject</td>\n",
       "      <td>Course</td>\n",
       "      <td>Column6</td>\n",
       "      <td>Section</td>\n",
       "      <td>Title</td>\n",
       "      <td>...</td>\n",
       "      <td>50-54</td>\n",
       "      <td>55-59</td>\n",
       "      <td>60-63</td>\n",
       "      <td>64-67</td>\n",
       "      <td>68-71</td>\n",
       "      <td>72-75</td>\n",
       "      <td>76-79</td>\n",
       "      <td>80-84</td>\n",
       "      <td>85-89</td>\n",
       "      <td>90-100</td>\n",
       "    </tr>\n",
       "    <tr>\n",
       "      <th>1</th>\n",
       "      <td>DataUBC.csv</td>\n",
       "      <td>UBC-1996S-ADED.csv</td>\n",
       "      <td>UBC</td>\n",
       "      <td>1996</td>\n",
       "      <td>S</td>\n",
       "      <td>ADED</td>\n",
       "      <td>327</td>\n",
       "      <td></td>\n",
       "      <td>98B</td>\n",
       "      <td>INST TECH TEA AD</td>\n",
       "      <td>...</td>\n",
       "      <td>0</td>\n",
       "      <td>0</td>\n",
       "      <td>0</td>\n",
       "      <td>0</td>\n",
       "      <td>0</td>\n",
       "      <td>0</td>\n",
       "      <td>0</td>\n",
       "      <td>0</td>\n",
       "      <td>0</td>\n",
       "      <td>0</td>\n",
       "    </tr>\n",
       "    <tr>\n",
       "      <th>2</th>\n",
       "      <td>DataUBC.csv</td>\n",
       "      <td>UBC-1996S-ADED.csv</td>\n",
       "      <td>UBC</td>\n",
       "      <td>1996</td>\n",
       "      <td>S</td>\n",
       "      <td>ADED</td>\n",
       "      <td>327</td>\n",
       "      <td></td>\n",
       "      <td>GIS</td>\n",
       "      <td>INST TECH TEA AD</td>\n",
       "      <td>...</td>\n",
       "      <td>0</td>\n",
       "      <td>0</td>\n",
       "      <td>0</td>\n",
       "      <td>0</td>\n",
       "      <td>0</td>\n",
       "      <td>0</td>\n",
       "      <td>0</td>\n",
       "      <td>1</td>\n",
       "      <td>3</td>\n",
       "      <td>6</td>\n",
       "    </tr>\n",
       "    <tr>\n",
       "      <th>3</th>\n",
       "      <td>DataUBC.csv</td>\n",
       "      <td>UBC-1996S-ADED.csv</td>\n",
       "      <td>UBC</td>\n",
       "      <td>1996</td>\n",
       "      <td>S</td>\n",
       "      <td>ADED</td>\n",
       "      <td>327</td>\n",
       "      <td></td>\n",
       "      <td>OVERALL</td>\n",
       "      <td>INST TECH TEA AD</td>\n",
       "      <td>...</td>\n",
       "      <td>0</td>\n",
       "      <td>0</td>\n",
       "      <td>0</td>\n",
       "      <td>0</td>\n",
       "      <td>0</td>\n",
       "      <td>0</td>\n",
       "      <td>0</td>\n",
       "      <td>1</td>\n",
       "      <td>3</td>\n",
       "      <td>6</td>\n",
       "    </tr>\n",
       "    <tr>\n",
       "      <th>4</th>\n",
       "      <td>DataUBC.csv</td>\n",
       "      <td>UBC-1996S-ADED.csv</td>\n",
       "      <td>UBC</td>\n",
       "      <td>1996</td>\n",
       "      <td>S</td>\n",
       "      <td>ADED</td>\n",
       "      <td>328</td>\n",
       "      <td></td>\n",
       "      <td>OVERALL</td>\n",
       "      <td>INSTIT ADULT ED</td>\n",
       "      <td>...</td>\n",
       "      <td>0</td>\n",
       "      <td>0</td>\n",
       "      <td>0</td>\n",
       "      <td>0</td>\n",
       "      <td>0</td>\n",
       "      <td>0</td>\n",
       "      <td>0</td>\n",
       "      <td>1</td>\n",
       "      <td>0</td>\n",
       "      <td>1</td>\n",
       "    </tr>\n",
       "    <tr>\n",
       "      <th>...</th>\n",
       "      <td>...</td>\n",
       "      <td>...</td>\n",
       "      <td>...</td>\n",
       "      <td>...</td>\n",
       "      <td>...</td>\n",
       "      <td>...</td>\n",
       "      <td>...</td>\n",
       "      <td>...</td>\n",
       "      <td>...</td>\n",
       "      <td>...</td>\n",
       "      <td>...</td>\n",
       "      <td>...</td>\n",
       "      <td>...</td>\n",
       "      <td>...</td>\n",
       "      <td>...</td>\n",
       "      <td>...</td>\n",
       "      <td>...</td>\n",
       "      <td>...</td>\n",
       "      <td>...</td>\n",
       "      <td>...</td>\n",
       "      <td>...</td>\n",
       "    </tr>\n",
       "    <tr>\n",
       "      <th>364076</th>\n",
       "      <td>DataUBCOFull.csv</td>\n",
       "      <td>UBCO-2021W-WRLD.csv</td>\n",
       "      <td>UBCO</td>\n",
       "      <td>2021</td>\n",
       "      <td>W</td>\n",
       "      <td>WRLD</td>\n",
       "      <td>360</td>\n",
       "      <td>NaN</td>\n",
       "      <td>OVERALL</td>\n",
       "      <td>Literature and Power</td>\n",
       "      <td>...</td>\n",
       "      <td>NaN</td>\n",
       "      <td>NaN</td>\n",
       "      <td>NaN</td>\n",
       "      <td>NaN</td>\n",
       "      <td>NaN</td>\n",
       "      <td>NaN</td>\n",
       "      <td>NaN</td>\n",
       "      <td>NaN</td>\n",
       "      <td>NaN</td>\n",
       "      <td>NaN</td>\n",
       "    </tr>\n",
       "    <tr>\n",
       "      <th>364077</th>\n",
       "      <td>DataUBCOFull.csv</td>\n",
       "      <td>UBCO-2021W-WRLD.csv</td>\n",
       "      <td>UBCO</td>\n",
       "      <td>2021</td>\n",
       "      <td>W</td>\n",
       "      <td>WRLD</td>\n",
       "      <td>370</td>\n",
       "      <td>NaN</td>\n",
       "      <td>001</td>\n",
       "      <td>Story and Image Across the Islamic World</td>\n",
       "      <td>...</td>\n",
       "      <td>NaN</td>\n",
       "      <td>NaN</td>\n",
       "      <td>NaN</td>\n",
       "      <td>NaN</td>\n",
       "      <td>NaN</td>\n",
       "      <td>NaN</td>\n",
       "      <td>NaN</td>\n",
       "      <td>NaN</td>\n",
       "      <td>NaN</td>\n",
       "      <td>NaN</td>\n",
       "    </tr>\n",
       "    <tr>\n",
       "      <th>364078</th>\n",
       "      <td>DataUBCOFull.csv</td>\n",
       "      <td>UBCO-2021W-WRLD.csv</td>\n",
       "      <td>UBCO</td>\n",
       "      <td>2021</td>\n",
       "      <td>W</td>\n",
       "      <td>WRLD</td>\n",
       "      <td>370</td>\n",
       "      <td>NaN</td>\n",
       "      <td>OVERALL</td>\n",
       "      <td>Story and Image Across the Islamic World</td>\n",
       "      <td>...</td>\n",
       "      <td>NaN</td>\n",
       "      <td>NaN</td>\n",
       "      <td>NaN</td>\n",
       "      <td>NaN</td>\n",
       "      <td>NaN</td>\n",
       "      <td>NaN</td>\n",
       "      <td>NaN</td>\n",
       "      <td>NaN</td>\n",
       "      <td>NaN</td>\n",
       "      <td>NaN</td>\n",
       "    </tr>\n",
       "    <tr>\n",
       "      <th>364079</th>\n",
       "      <td>DataUBCOFull.csv</td>\n",
       "      <td>UBCO-2021W-WRLD.csv</td>\n",
       "      <td>UBCO</td>\n",
       "      <td>2021</td>\n",
       "      <td>W</td>\n",
       "      <td>WRLD</td>\n",
       "      <td>480</td>\n",
       "      <td>NaN</td>\n",
       "      <td>001</td>\n",
       "      <td>Modern Japanese Literature and the Invention o...</td>\n",
       "      <td>...</td>\n",
       "      <td>NaN</td>\n",
       "      <td>NaN</td>\n",
       "      <td>NaN</td>\n",
       "      <td>NaN</td>\n",
       "      <td>NaN</td>\n",
       "      <td>NaN</td>\n",
       "      <td>NaN</td>\n",
       "      <td>NaN</td>\n",
       "      <td>NaN</td>\n",
       "      <td>NaN</td>\n",
       "    </tr>\n",
       "    <tr>\n",
       "      <th>364080</th>\n",
       "      <td>DataUBCOFull.csv</td>\n",
       "      <td>UBCO-2021W-WRLD.csv</td>\n",
       "      <td>UBCO</td>\n",
       "      <td>2021</td>\n",
       "      <td>W</td>\n",
       "      <td>WRLD</td>\n",
       "      <td>480</td>\n",
       "      <td>NaN</td>\n",
       "      <td>OVERALL</td>\n",
       "      <td>Modern Japanese Literature and the Invention o...</td>\n",
       "      <td>...</td>\n",
       "      <td>NaN</td>\n",
       "      <td>NaN</td>\n",
       "      <td>NaN</td>\n",
       "      <td>NaN</td>\n",
       "      <td>NaN</td>\n",
       "      <td>NaN</td>\n",
       "      <td>NaN</td>\n",
       "      <td>NaN</td>\n",
       "      <td>NaN</td>\n",
       "      <td>NaN</td>\n",
       "    </tr>\n",
       "  </tbody>\n",
       "</table>\n",
       "<p>364081 rows × 37 columns</p>\n",
       "</div>"
      ],
      "text/plain": [
       "             Source.Name           SourceFile  Campus  Year  Session  Subject  \\\n",
       "0            DataUBC.csv          Source File  Campus  Year  Session  Subject   \n",
       "1            DataUBC.csv   UBC-1996S-ADED.csv     UBC  1996        S     ADED   \n",
       "2            DataUBC.csv   UBC-1996S-ADED.csv     UBC  1996        S     ADED   \n",
       "3            DataUBC.csv   UBC-1996S-ADED.csv     UBC  1996        S     ADED   \n",
       "4            DataUBC.csv   UBC-1996S-ADED.csv     UBC  1996        S     ADED   \n",
       "...                  ...                  ...     ...   ...      ...      ...   \n",
       "364076  DataUBCOFull.csv  UBCO-2021W-WRLD.csv    UBCO  2021        W     WRLD   \n",
       "364077  DataUBCOFull.csv  UBCO-2021W-WRLD.csv    UBCO  2021        W     WRLD   \n",
       "364078  DataUBCOFull.csv  UBCO-2021W-WRLD.csv    UBCO  2021        W     WRLD   \n",
       "364079  DataUBCOFull.csv  UBCO-2021W-WRLD.csv    UBCO  2021        W     WRLD   \n",
       "364080  DataUBCOFull.csv  UBCO-2021W-WRLD.csv    UBCO  2021        W     WRLD   \n",
       "\n",
       "        Course   Remove  Section  \\\n",
       "0       Course  Column6  Section   \n",
       "1          327               98B   \n",
       "2          327               GIS   \n",
       "3          327           OVERALL   \n",
       "4          328           OVERALL   \n",
       "...        ...      ...      ...   \n",
       "364076     360      NaN  OVERALL   \n",
       "364077     370      NaN      001   \n",
       "364078     370      NaN  OVERALL   \n",
       "364079     480      NaN      001   \n",
       "364080     480      NaN  OVERALL   \n",
       "\n",
       "                                                    Title  ... '50-54 '55-59  \\\n",
       "0                                                   Title  ...  50-54  55-59   \n",
       "1                                        INST TECH TEA AD  ...      0      0   \n",
       "2                                        INST TECH TEA AD  ...      0      0   \n",
       "3                                        INST TECH TEA AD  ...      0      0   \n",
       "4                                         INSTIT ADULT ED  ...      0      0   \n",
       "...                                                   ...  ...    ...    ...   \n",
       "364076                               Literature and Power  ...    NaN    NaN   \n",
       "364077           Story and Image Across the Islamic World  ...    NaN    NaN   \n",
       "364078           Story and Image Across the Islamic World  ...    NaN    NaN   \n",
       "364079  Modern Japanese Literature and the Invention o...  ...    NaN    NaN   \n",
       "364080  Modern Japanese Literature and the Invention o...  ...    NaN    NaN   \n",
       "\n",
       "       '60-63 '64-67 '68-71 '72-75 '76-79 '80-84 '85-89 '90-100  \n",
       "0       60-63  64-67  68-71  72-75  76-79  80-84  85-89  90-100  \n",
       "1           0      0      0      0      0      0      0       0  \n",
       "2           0      0      0      0      0      1      3       6  \n",
       "3           0      0      0      0      0      1      3       6  \n",
       "4           0      0      0      0      0      1      0       1  \n",
       "...       ...    ...    ...    ...    ...    ...    ...     ...  \n",
       "364076    NaN    NaN    NaN    NaN    NaN    NaN    NaN     NaN  \n",
       "364077    NaN    NaN    NaN    NaN    NaN    NaN    NaN     NaN  \n",
       "364078    NaN    NaN    NaN    NaN    NaN    NaN    NaN     NaN  \n",
       "364079    NaN    NaN    NaN    NaN    NaN    NaN    NaN     NaN  \n",
       "364080    NaN    NaN    NaN    NaN    NaN    NaN    NaN     NaN  \n",
       "\n",
       "[364081 rows x 37 columns]"
      ]
     },
     "execution_count": 192,
     "metadata": {},
     "output_type": "execute_result"
    }
   ],
   "source": [
    "import numpy as np\n",
    "import pandas as pd\n",
    "import matplotlib.pylab as plt\n",
    "import seaborn as sns \n",
    "import os\n",
    "import glob\n",
    "import csv\n",
    "\n",
    "datafile = pd.read_csv(r'C:\\Users\\crisp\\301\\project-group27\\data\\raw\\All_Data.csv')\n",
    "datafile\n",
    "\n",
    "\n"
   ]
  },
  {
   "cell_type": "markdown",
   "metadata": {},
   "source": [
    "# Milestone 3\n",
    "Task 1"
   ]
  },
  {
   "cell_type": "code",
   "execution_count": 193,
   "metadata": {},
   "outputs": [
    {
     "data": {
      "text/plain": [
       "(364081, 37)"
      ]
     },
     "execution_count": 193,
     "metadata": {},
     "output_type": "execute_result"
    }
   ],
   "source": [
    "datafile.shape\n"
   ]
  },
  {
   "cell_type": "code",
   "execution_count": 194,
   "metadata": {},
   "outputs": [
    {
     "data": {
      "text/html": [
       "<div>\n",
       "<style scoped>\n",
       "    .dataframe tbody tr th:only-of-type {\n",
       "        vertical-align: middle;\n",
       "    }\n",
       "\n",
       "    .dataframe tbody tr th {\n",
       "        vertical-align: top;\n",
       "    }\n",
       "\n",
       "    .dataframe thead th {\n",
       "        text-align: right;\n",
       "    }\n",
       "</style>\n",
       "<table border=\"1\" class=\"dataframe\">\n",
       "  <thead>\n",
       "    <tr style=\"text-align: right;\">\n",
       "      <th></th>\n",
       "      <th>Source.Name</th>\n",
       "      <th>SourceFile</th>\n",
       "      <th>Campus</th>\n",
       "      <th>Year</th>\n",
       "      <th>Session</th>\n",
       "      <th>Subject</th>\n",
       "      <th>Course</th>\n",
       "      <th>Remove</th>\n",
       "      <th>Section</th>\n",
       "      <th>Title</th>\n",
       "      <th>...</th>\n",
       "      <th>'50-54</th>\n",
       "      <th>'55-59</th>\n",
       "      <th>'60-63</th>\n",
       "      <th>'64-67</th>\n",
       "      <th>'68-71</th>\n",
       "      <th>'72-75</th>\n",
       "      <th>'76-79</th>\n",
       "      <th>'80-84</th>\n",
       "      <th>'85-89</th>\n",
       "      <th>'90-100</th>\n",
       "    </tr>\n",
       "  </thead>\n",
       "  <tbody>\n",
       "    <tr>\n",
       "      <th>0</th>\n",
       "      <td>DataUBC.csv</td>\n",
       "      <td>Source File</td>\n",
       "      <td>Campus</td>\n",
       "      <td>Year</td>\n",
       "      <td>Session</td>\n",
       "      <td>Subject</td>\n",
       "      <td>Course</td>\n",
       "      <td>Column6</td>\n",
       "      <td>Section</td>\n",
       "      <td>Title</td>\n",
       "      <td>...</td>\n",
       "      <td>50-54</td>\n",
       "      <td>55-59</td>\n",
       "      <td>60-63</td>\n",
       "      <td>64-67</td>\n",
       "      <td>68-71</td>\n",
       "      <td>72-75</td>\n",
       "      <td>76-79</td>\n",
       "      <td>80-84</td>\n",
       "      <td>85-89</td>\n",
       "      <td>90-100</td>\n",
       "    </tr>\n",
       "    <tr>\n",
       "      <th>1</th>\n",
       "      <td>DataUBC.csv</td>\n",
       "      <td>UBC-1996S-ADED.csv</td>\n",
       "      <td>UBC</td>\n",
       "      <td>1996</td>\n",
       "      <td>S</td>\n",
       "      <td>ADED</td>\n",
       "      <td>327</td>\n",
       "      <td></td>\n",
       "      <td>98B</td>\n",
       "      <td>INST TECH TEA AD</td>\n",
       "      <td>...</td>\n",
       "      <td>0</td>\n",
       "      <td>0</td>\n",
       "      <td>0</td>\n",
       "      <td>0</td>\n",
       "      <td>0</td>\n",
       "      <td>0</td>\n",
       "      <td>0</td>\n",
       "      <td>0</td>\n",
       "      <td>0</td>\n",
       "      <td>0</td>\n",
       "    </tr>\n",
       "    <tr>\n",
       "      <th>2</th>\n",
       "      <td>DataUBC.csv</td>\n",
       "      <td>UBC-1996S-ADED.csv</td>\n",
       "      <td>UBC</td>\n",
       "      <td>1996</td>\n",
       "      <td>S</td>\n",
       "      <td>ADED</td>\n",
       "      <td>327</td>\n",
       "      <td></td>\n",
       "      <td>GIS</td>\n",
       "      <td>INST TECH TEA AD</td>\n",
       "      <td>...</td>\n",
       "      <td>0</td>\n",
       "      <td>0</td>\n",
       "      <td>0</td>\n",
       "      <td>0</td>\n",
       "      <td>0</td>\n",
       "      <td>0</td>\n",
       "      <td>0</td>\n",
       "      <td>1</td>\n",
       "      <td>3</td>\n",
       "      <td>6</td>\n",
       "    </tr>\n",
       "    <tr>\n",
       "      <th>3</th>\n",
       "      <td>DataUBC.csv</td>\n",
       "      <td>UBC-1996S-ADED.csv</td>\n",
       "      <td>UBC</td>\n",
       "      <td>1996</td>\n",
       "      <td>S</td>\n",
       "      <td>ADED</td>\n",
       "      <td>327</td>\n",
       "      <td></td>\n",
       "      <td>OVERALL</td>\n",
       "      <td>INST TECH TEA AD</td>\n",
       "      <td>...</td>\n",
       "      <td>0</td>\n",
       "      <td>0</td>\n",
       "      <td>0</td>\n",
       "      <td>0</td>\n",
       "      <td>0</td>\n",
       "      <td>0</td>\n",
       "      <td>0</td>\n",
       "      <td>1</td>\n",
       "      <td>3</td>\n",
       "      <td>6</td>\n",
       "    </tr>\n",
       "    <tr>\n",
       "      <th>4</th>\n",
       "      <td>DataUBC.csv</td>\n",
       "      <td>UBC-1996S-ADED.csv</td>\n",
       "      <td>UBC</td>\n",
       "      <td>1996</td>\n",
       "      <td>S</td>\n",
       "      <td>ADED</td>\n",
       "      <td>328</td>\n",
       "      <td></td>\n",
       "      <td>OVERALL</td>\n",
       "      <td>INSTIT ADULT ED</td>\n",
       "      <td>...</td>\n",
       "      <td>0</td>\n",
       "      <td>0</td>\n",
       "      <td>0</td>\n",
       "      <td>0</td>\n",
       "      <td>0</td>\n",
       "      <td>0</td>\n",
       "      <td>0</td>\n",
       "      <td>1</td>\n",
       "      <td>0</td>\n",
       "      <td>1</td>\n",
       "    </tr>\n",
       "  </tbody>\n",
       "</table>\n",
       "<p>5 rows × 37 columns</p>\n",
       "</div>"
      ],
      "text/plain": [
       "   Source.Name          SourceFile  Campus  Year  Session  Subject  Course  \\\n",
       "0  DataUBC.csv         Source File  Campus  Year  Session  Subject  Course   \n",
       "1  DataUBC.csv  UBC-1996S-ADED.csv     UBC  1996        S     ADED     327   \n",
       "2  DataUBC.csv  UBC-1996S-ADED.csv     UBC  1996        S     ADED     327   \n",
       "3  DataUBC.csv  UBC-1996S-ADED.csv     UBC  1996        S     ADED     327   \n",
       "4  DataUBC.csv  UBC-1996S-ADED.csv     UBC  1996        S     ADED     328   \n",
       "\n",
       "    Remove  Section             Title  ... '50-54 '55-59 '60-63 '64-67 '68-71  \\\n",
       "0  Column6  Section             Title  ...  50-54  55-59  60-63  64-67  68-71   \n",
       "1               98B  INST TECH TEA AD  ...      0      0      0      0      0   \n",
       "2               GIS  INST TECH TEA AD  ...      0      0      0      0      0   \n",
       "3           OVERALL  INST TECH TEA AD  ...      0      0      0      0      0   \n",
       "4           OVERALL   INSTIT ADULT ED  ...      0      0      0      0      0   \n",
       "\n",
       "  '72-75 '76-79 '80-84 '85-89 '90-100  \n",
       "0  72-75  76-79  80-84  85-89  90-100  \n",
       "1      0      0      0      0       0  \n",
       "2      0      0      1      3       6  \n",
       "3      0      0      1      3       6  \n",
       "4      0      0      1      0       1  \n",
       "\n",
       "[5 rows x 37 columns]"
      ]
     },
     "execution_count": 194,
     "metadata": {},
     "output_type": "execute_result"
    }
   ],
   "source": [
    "datafile.head()"
   ]
  },
  {
   "cell_type": "code",
   "execution_count": 195,
   "metadata": {},
   "outputs": [
    {
     "data": {
      "text/plain": [
       "Index(['Source.Name', 'SourceFile', 'Campus', 'Year', 'Session', 'Subject',\n",
       "       'Course', 'Remove', 'Section', 'Title', 'Professor', 'Enrolled',\n",
       "       'Average', 'Std Dev', 'High', 'Low', 'Pass', 'Fail', 'Withdrew',\n",
       "       'Audit', 'Other', ''0-9', ''10-19', ''20-29', ''30-39', ''40-49', '<50',\n",
       "       ''50-54', ''55-59', ''60-63', ''64-67', ''68-71', ''72-75', ''76-79',\n",
       "       ''80-84', ''85-89', ''90-100'],\n",
       "      dtype='object')"
      ]
     },
     "execution_count": 195,
     "metadata": {},
     "output_type": "execute_result"
    }
   ],
   "source": [
    "datafile.columns"
   ]
  },
  {
   "cell_type": "code",
   "execution_count": 196,
   "metadata": {},
   "outputs": [
    {
     "data": {
      "text/plain": [
       "Source.Name        3\n",
       "SourceFile      8994\n",
       "Campus             4\n",
       "Year              35\n",
       "Session            3\n",
       "Subject          367\n",
       "Course          1133\n",
       "Remove            32\n",
       "Section         1502\n",
       "Title          15936\n",
       "Professor      21487\n",
       "Enrolled        1998\n",
       "Average        16512\n",
       "Std Dev        18066\n",
       "High             293\n",
       "Low              297\n",
       "Pass            1758\n",
       "Fail             356\n",
       "Withdrew         194\n",
       "Audit            127\n",
       "Other            785\n",
       "'0-9             167\n",
       "'10-19           184\n",
       "'20-29           193\n",
       "'30-39           241\n",
       "'40-49           292\n",
       "<50              386\n",
       "'50-54           286\n",
       "'55-59           357\n",
       "'60-63           338\n",
       "'64-67           379\n",
       "'68-71           458\n",
       "'72-75           474\n",
       "'76-79           454\n",
       "'80-84           524\n",
       "'85-89           390\n",
       "'90-100          394\n",
       "dtype: int64"
      ]
     },
     "execution_count": 196,
     "metadata": {},
     "output_type": "execute_result"
    }
   ],
   "source": [
    "datafile.nunique(axis=0)"
   ]
  },
  {
   "cell_type": "code",
   "execution_count": 182,
   "metadata": {},
   "outputs": [
    {
     "data": {
      "text/plain": [
       "array(['Other', '4', '1', '6', '5', '10', '2', '3', '11', '0', '15', '16',\n",
       "       '9', '12', '8', '30', '32', '70', '13', '151', '21', '22', '58',\n",
       "       '36', '79', '7', '17', '74', '14', '35', '18', '24', '25', '34',\n",
       "       '19', '38', '26', '31', '45', '48', '37', '41', '42', '23', '33',\n",
       "       '50', '29', '122', '28', '27', '59', '20', '102', '61', '49', '43',\n",
       "       '54', '55', '44', '64', '56', '51', '160', '69', '656', '529',\n",
       "       '123', '314', '325', '47', '86', '39', '117', '128', '40', '52',\n",
       "       '53', '281', '395', '816', '220', '211', '188', '818', '405',\n",
       "       '421', '257', '132', '407', '394', '412', '221', '184', '431',\n",
       "       '66', '57', '65', '112', '83', '77', '75', '88', '120', '119',\n",
       "       '121', '98', '105', '189', '178', '115', '124', '67', '71', '80',\n",
       "       '63', '60', '111', '114', '62', '104', '87', '76', '137', '631',\n",
       "       '642', '534', '172', '317', '334', '46', '85', '173', '131', 3, 0,\n",
       "       8, 2, 5, 7, 1, 4, 12, 38, 43, 11, 6, 18, 51, 23, 30, 24, 33, 40,\n",
       "       21, 25, 20, 32, 13, 19, 17, 10, 37, 9, 14, 52, 59, 331, 36, 34,\n",
       "       301, 22, 15, 31, 65, 907, 209, 184, 138, 16, 921, 304, 423, 263,\n",
       "       140, 66, 501, 305, 426, 26, 259, 130, 71, 64, 53, 54, 75, 35, 29,\n",
       "       62, 47, 27, 41, 50, 42, 87, 122, 123, 124, 76, 91, 197, 179, 45,\n",
       "       49, 28, 44, 39, 89, 120, 160, 131, 74, 78, 84, 48, 69, 58, 63, 61,\n",
       "       70, 145, 77, 56, 85, 102, 106, 46, 68, 111, 98, 79, 67, 55, 159,\n",
       "       584, 588, 449, 194, 114, 320, 116, 200, 117, 103, 57, 217, 221,\n",
       "       905, 904, 302, 438, 183, 420, 279, 427, 141, 456, 101, 72, 80, 125,\n",
       "       202, 119, 139, 136, 165, 104, 94, 112, 86, 81, 60, 177, 73, 110,\n",
       "       575, 576, 473, 186, 346, 378, 96, 213, 108, 158, 118, 272, 1003,\n",
       "       1024, 481, 239, 132, 475, 289, 467, 230, 457, 92, 157, 155, 193,\n",
       "       196, 121, 161, 181, 95, 100, 99, 606, 617, 470, 380, 404, 105, 201,\n",
       "       107, 255, 853, 796, 284, 401, 273, 389, 439, 162, 156, 93, 109,\n",
       "       206, 185, 169, 90, 204, 115, 636, 513, 175, 386, 539, 127, 128,\n",
       "       168, 1039, 567, 242, 489, 433, 1042, 1041, 388, 500, 515, 364, 483,\n",
       "       488, 465, 466, 521, 504, 164, 163, 205, 207, 572, 579, 593, 480,\n",
       "       564, 142, 589, 174, 549, 126, 88, 444, 901, 454, 129, 266, 679,\n",
       "       536, 496, 166, 1026, 529, 468, 1008, 986, 425, 472, 476, 396, 447,\n",
       "       133, 448, 573, 507, 443, 167, 171, 170, 173, 541, 538, 552, 445,\n",
       "       471, 542, 153, 502, 215, 337, 833, 429, 647, 176, 823, 633, 372,\n",
       "       492, 219, 880, 375, 335, 889, 879, 351, 482, 330, 379, 462, 361,\n",
       "       512, 384, 451, 590, 135, 210, 517, 518, 522, 503, 143, 431, 339,\n",
       "       747, 395, 479, 610, 435, 294, 113, 241, 825, 478, 363, 319, 845,\n",
       "       801, 325, 369, 312, 359, 137, 342, 385, 394, 243, 172, 198, 422,\n",
       "       450, 249, 477, 229, 97, 134, 234, 269, 285, 390, 282, 623, 303, 82,\n",
       "       256, 323, 225, 265, 199, 238, 836, 362, 344, 843, 746, 352, 368,\n",
       "       149, 261, 240, 248, 226, 498, 469, 220, 264, 147, 290, 624, 83,\n",
       "       674, 296, 148, 446, 154, 222, 224, 260, 797, 829, 757, 414, 354,\n",
       "       419, 365, 406, 353, 563, 262, 268, 223, 227, 411, 437, 257, 150,\n",
       "       638, 216, 355, 151, 297, 146, 400, 152, 218, 722, 334, 764, 761,\n",
       "       336, 408, 381, 523, 298, 278, 195, 399, 407, 434, 430, 270, 288,\n",
       "       291, 276, 705, 668, 333, 703, 315, 144, 686, 403, 725, 719, 326,\n",
       "       377, 287, 382, 178, 321, 495, 295, 258, 299, 300, 366, 214, 410,\n",
       "       402, 280, 632, 787, 702, 340, 749, 348, 358, 307, 324, 392, 182,\n",
       "       547, 306, 308, 254, 231, 228, 309, 660, 654, 192, 310, 779, 237,\n",
       "       357, 367, 710, 313, 727, 723, 338, 514, 452, 250, 625, 728, 277,\n",
       "       251, 581, 580, 252, 253, 350, 293, 208, 246, 212, 191, 245, 267,\n",
       "       247, 525, 497, 509, 341, 292, 244, 491, 232, 704, 561, 555, 283,\n",
       "       554, 560, 544, 557, 343, 345, 286, 189, 271, 775, 281, 275, 571,\n",
       "       559, 329, 550, 537, 516, 274, 565, 327, 519, 374, 235, 637, 622,\n",
       "       314, 621, 612, 644, 630, 627, 566, 180, 673, 682, 347, 311, 669,\n",
       "       678, 680, 317, '364', '163', '174', '269', '167', '96', '73', '72',\n",
       "       '361', '650', '279', '333', '308', '630', '164', '587', '109',\n",
       "       '68', '305', '285', '118', '78', '207', '215', '125', '202', '157',\n",
       "       '94', '287', '103', '90', '150', '195', '84', '113', '179', '245',\n",
       "       '140', '155', '82', '351', '350', '349', '91', '315', '707', '107',\n",
       "       '319', '313', '339', '708', '283', '284', '371', '699', '615',\n",
       "       '149', '702', '643', '703', '282', '181', '342', '318', '307',\n",
       "       '293', '294', '291', '288', '286', '204', '97', '201', '261',\n",
       "       '55-59', nan, '64-67', '126', '110', '134'], dtype=object)"
      ]
     },
     "execution_count": 182,
     "metadata": {},
     "output_type": "execute_result"
    }
   ],
   "source": [
    "datafile.Other.unique()"
   ]
  },
  {
   "cell_type": "markdown",
   "metadata": {},
   "source": [
    "Numbers in the other column doesn't matter to the overall data"
   ]
  },
  {
   "cell_type": "code",
   "execution_count": 183,
   "metadata": {},
   "outputs": [
    {
     "data": {
      "text/plain": [
       "array(['Campus', 'UBC', 'UBCO', 'UBCV'], dtype=object)"
      ]
     },
     "execution_count": 183,
     "metadata": {},
     "output_type": "execute_result"
    }
   ],
   "source": [
    "datafile.Campus.unique()"
   ]
  },
  {
   "cell_type": "markdown",
   "metadata": {},
   "source": [
    "Campus works but we have to combine UBC and UBCV as that was a typing error because it is to mean the same campus"
   ]
  },
  {
   "cell_type": "code",
   "execution_count": 184,
   "metadata": {},
   "outputs": [
    {
     "data": {
      "text/plain": [
       "array(['Year', '1996', '1997', 1997, 1998, 1999, 2000, 2001, 2002, 2003,\n",
       "       2004, 2005, 2006, 2007, 2008, 2009, 2010, 2011, 2012, 2013, 2014,\n",
       "       2015, 2016, 2017, '2017', '2018', '2021', '2022', '2014', '2015',\n",
       "       '2016', '2019', '2020', 2020, 2021], dtype=object)"
      ]
     },
     "execution_count": 184,
     "metadata": {},
     "output_type": "execute_result"
    }
   ],
   "source": [
    "datafile.Year.unique()"
   ]
  },
  {
   "cell_type": "markdown",
   "metadata": {},
   "source": [
    "With this particuler piece of data it shows all the years that the data encompasses. It is useful to show the year for plotting the data year after year "
   ]
  },
  {
   "cell_type": "code",
   "execution_count": 185,
   "metadata": {},
   "outputs": [
    {
     "data": {
      "text/plain": [
       "array(['Subject', 'ADED', 'AGEC', 'ANAT', 'ANSC', 'ANTH', 'APSC', 'ARCH',\n",
       "       'ARST', 'ARTE', 'ASIA', 'ASTR', 'ATSC', 'AUDI', 'BA  ', 'BAAC',\n",
       "       'BABS', 'BAEN', 'BAFI', 'BAHR', 'BAIM', 'BAIT', 'BAMA', 'BAPA',\n",
       "       'BASM', 'BATL', 'BAUL', 'BIOC', 'BIOE', 'BIOL', 'BOTA', 'BUED',\n",
       "       'CHEM', 'CHIN', 'CHML', 'CIVL', 'CLST', 'CNPS', 'COMM', 'CPSC',\n",
       "       'CRWR', 'CSED', 'CUST', 'DENT', 'EADM', 'ECED', 'ECON', 'EDCI',\n",
       "       'EDST', 'EDUC', 'ELEC', 'ENED', 'ENGL', 'EPSE', 'FILM', 'FINA',\n",
       "       'FMPR', 'FMSC', 'FMST', 'FOOD', 'FREN', 'FRST', 'GENE', 'GEOG',\n",
       "       'GEOL', 'GEOP', 'GEPA', 'GERM', 'HCEP', 'HIED', 'HIST', 'HKIN',\n",
       "       'HMED', 'HUNU', 'INDS', 'ITAL', 'JAPN', 'LANE', 'LATN', 'LAW ',\n",
       "       'LIBE', 'LIBR', 'LING', 'MAED', 'MATH', 'MECH', 'MEDG', 'MEDI',\n",
       "       'MICB', 'MLED', 'MMAT', 'MMPE', 'MRNE', 'MUED', 'MUSC', 'NRSC',\n",
       "       'NURS', 'OBST', 'OCCH', 'OCGY', 'ORBI', 'PATH', 'PCTH', 'PHAR',\n",
       "       'PHIL', 'PHYS', 'PLAN', 'PLNT', 'POLI', 'PSYC', 'PUNJ', 'READ',\n",
       "       'RELG', 'RHSC', 'RMES', 'RUSS', 'SCED', 'SOCI', 'SOIL', 'SOWK',\n",
       "       'SPAN', 'SSED', 'STAT', 'THTR', 'TSED', 'URST', 'WMST', 'WOOD',\n",
       "       'ZOOL', 'AGSC', 'ANAE', 'ARBC', 'ARTS', 'ASTU', 'BALA', 'BAMS',\n",
       "       'BATM', 'CDSC', 'CDST', 'COML', 'CONS', 'ENVR', 'ERTH', 'EXCH',\n",
       "       'FISH', 'FNLG', 'FOPR', 'FPEN', 'FRSI', 'GREK', 'HCET', 'HEBR',\n",
       "       'HIND', 'HMEC', 'INDE', 'INDO', 'ITST', 'KORN', 'LARC', 'MDVL',\n",
       "       'MEDH', 'OMSS', 'OPTH', 'ORPA', 'PAED', 'PETE', 'PHYL', 'POLS',\n",
       "       'PORT', 'PSYT', 'RADI', 'RGLT', 'RSOT', 'RSPT', 'SANS', 'SCAN',\n",
       "       'SCIE', 'SLAV', 'SURG', 'URDU', 'WRIT', 'DPAS', 'EMER', 'EOSC',\n",
       "       'FMED', 'ORNT', 'PRIN', 'SOAL', 'FEBC', 'HINU', 'ISCI', 'JRNL',\n",
       "       'LAST', 'OBMS', 'OHS ', 'SEAL', 'BUSI', 'CICS', 'DERM', 'EECE',\n",
       "       'RMST', 'AGRO', 'CHBE', 'CSIS', 'FDNS', 'FNH ', 'FRE ', 'IAR ',\n",
       "       'IEST', 'IHHS', 'LLED', 'PPEN', 'CCST', 'COGS', 'CSPW', 'DRAM',\n",
       "       'FNSP', 'HECO', 'HXAH', 'HXEC', 'HXEN', 'HXHI', 'HXPY', 'RGLA',\n",
       "       'GRS ', 'VRHC', 'CENS', 'DHYG', 'ENDS', 'ETEC', 'HCEC', 'HXGY',\n",
       "       'HXMA', 'HXPC', 'HXPS', 'HXSP', 'MIDW', 'ARTH', 'CHIL', 'VISA',\n",
       "       'ADHE', 'BRDG', 'CNRS', 'HXGM', 'HXPH', 'MINE', 'BASC', 'MTRL',\n",
       "       'NEST', 'CCFI', 'HXDR', 'HXFR', 'HXWR', 'LFS ', 'ONCO', 'SWFS',\n",
       "       'AFST', 'BASD', 'BIOF', 'FIPR', 'FIST', 'HXFL', 'HXRE', 'TIBT',\n",
       "       'ASIC', 'CELL', 'COHR', 'HESO', 'HXMU', 'EMBA', 'FACT', 'SPHA',\n",
       "       'SPPH', 'APBI', 'CEEN', 'GEOB', 'LASO', 'URO ', 'EDCP', 'BAHC',\n",
       "       'BMEG', 'GSAT', 'ENPH', 'IGEN', 'PERS', 'KIN ', 'PHTH', 'STS ',\n",
       "       'CAPS', 'AANB', 'DANI', 'GRSJ', 'HGSE', 'NAME', 'SWED', 'ARCL',\n",
       "       'CLCH', 'FHIS', 'UDES', 'VANT', 'WRDS', 'APPP', 'CNTO', 'COEC',\n",
       "       'CPEN', 'FNEL', 'FNIS', 'GBPR', 'GPP ', 'INFO', 'IWME', 'LAIS',\n",
       "       'MEDD', 'PHRM', 'UFOR', 'URSY', 'MGMT', 'RES ', 'ACAM', 'DSCI',\n",
       "       'DMED', 'GEM ', 'COMR', 'HPB ', 'LWS ', 'OSOT', 'INLB', 'COSC',\n",
       "       'CULT', 'DATA', 'EESC', 'ENGR', 'HEAL', 'HINT', 'HMKN', 'INDG',\n",
       "       'JPST', 'NRSG', 'PSYO', 'SOCW', 'WRLD', 'CORH', 'DIHU', 'GISC',\n",
       "       'GWST', 'INLG', 'MANF', 'MDST', 'NSYL', 'NEPL', 'PPGA', 'BEST',\n",
       "       'COLX', 'ECPS', 'ENVE', 'FCOR', 'FOPE', 'GEOS', 'MANU', 'RGST',\n",
       "       'THFL', 'EAP', 'CCS', 'ENVI', 'IGS', 'SUST', 'HES'], dtype=object)"
      ]
     },
     "execution_count": 185,
     "metadata": {},
     "output_type": "execute_result"
    }
   ],
   "source": [
    "datafile.Subject.unique()"
   ]
  },
  {
   "cell_type": "markdown",
   "metadata": {},
   "source": [
    "This data is useful for figuring out which courses have the greatest disparity between years compared to others"
   ]
  },
  {
   "cell_type": "markdown",
   "metadata": {},
   "source": [
    "# Graph 1\n",
    "This graph shows the occurance of each year in the dataset which is interesting because if examined it will show which years had the most courses as data. It isn't pretty but it does show all the years with courses. "
   ]
  },
  {
   "cell_type": "code",
   "execution_count": 186,
   "metadata": {},
   "outputs": [
    {
     "data": {
      "text/plain": [
       "<AxesSubplot:title={'center':'Courses per Year'}, xlabel='count', ylabel='Year'>"
      ]
     },
     "execution_count": 186,
     "metadata": {},
     "output_type": "execute_result"
    },
    {
     "data": {
      "image/png": "[encoded data removed]",
      "text/plain": [
       "<Figure size 640x480 with 1 Axes>"
      ]
     },
     "metadata": {},
     "output_type": "display_data"
    }
   ],
   "source": [
    "plt.title('Courses per Year')\n",
    "\n",
    "year = datafile[['Year']]\n",
    "year.head\n",
    "\n",
    "sns.countplot(data=year,y='Year')\n"
   ]
  },
  {
   "cell_type": "markdown",
   "metadata": {},
   "source": [
    "# Task 2: Data Analysis Pipeline\n",
    "1. Load Data\n",
    "2. Clean Data\n",
    "3. Test New Datafile\n"
   ]
  },
  {
   "cell_type": "markdown",
   "metadata": {},
   "source": [
    "Cleaning data\n",
    "- Remove all coluumns that I don't need\n",
    "    - Basic ones with useless data removed\n",
    "    - Std dev removed because unknown data\n",
    "    - Audit removed because it is unneeded for data analysis\n",
    "- Remove all rows I don't need or that are messed up\n",
    "    - Simply needed to get rid of the row that was a duplicate of the titles for each column"
   ]
  },
  {
   "cell_type": "code",
   "execution_count": 191,
   "metadata": {},
   "outputs": [
    {
     "data": {
      "text/plain": [
       "array(['UBC', 'UBCO', 'UBCV'], dtype=object)"
      ]
     },
     "execution_count": 191,
     "metadata": {},
     "output_type": "execute_result"
    }
   ],
   "source": [
    "from distutils.command import clean\n",
    "\n",
    "\n",
    "clean_data = datafile.copy().drop(['Remove', 'Source.Name','SourceFile', 'Other', 'Std Dev', 'Audit'], axis=1)\n",
    "clean_data = clean_data.drop(clean_data[clean_data.Campus == 'Campus'].index)\n",
    "\n",
    "clean_data.nunique()\n",
    "clean_data.Campus.unique()\n"
   ]
  },
  {
   "cell_type": "markdown",
   "metadata": {},
   "source": [
    "Well the data was cleaned up a lot and I removed all rows which had one of the column titles in it. Lets take a look at it now  "
   ]
  },
  {
   "cell_type": "code",
   "execution_count": 188,
   "metadata": {},
   "outputs": [
    {
     "ename": "TypeError",
     "evalue": "'value' must be an instance of str or bytes, not a int",
     "output_type": "error",
     "traceback": [
      "\u001b[1;31m---------------------------------------------------------------------------\u001b[0m",
      "\u001b[1;31mTypeError\u001b[0m                                 Traceback (most recent call last)",
      "Cell \u001b[1;32mIn [188], line 3\u001b[0m\n\u001b[0;32m      1\u001b[0m plt\u001b[39m.\u001b[39mtitle(\u001b[39m'\u001b[39m\u001b[39mEnrolled per Year\u001b[39m\u001b[39m'\u001b[39m)\n\u001b[1;32m----> 3\u001b[0m clean_data\u001b[39m.\u001b[39;49mplot(kind\u001b[39m=\u001b[39;49m\u001b[39m'\u001b[39;49m\u001b[39mscatter\u001b[39;49m\u001b[39m'\u001b[39;49m, x\u001b[39m=\u001b[39;49m\u001b[39m'\u001b[39;49m\u001b[39mEnrolled\u001b[39;49m\u001b[39m'\u001b[39;49m, y\u001b[39m=\u001b[39;49m\u001b[39m'\u001b[39;49m\u001b[39mYear\u001b[39;49m\u001b[39m'\u001b[39;49m)\n",
      "File \u001b[1;32mc:\\Users\\crisp\\miniconda3\\lib\\site-packages\\pandas\\plotting\\_core.py:917\u001b[0m, in \u001b[0;36mPlotAccessor.__call__\u001b[1;34m(self, *args, **kwargs)\u001b[0m\n\u001b[0;32m    915\u001b[0m \u001b[39mif\u001b[39;00m kind \u001b[39min\u001b[39;00m \u001b[39mself\u001b[39m\u001b[39m.\u001b[39m_dataframe_kinds:\n\u001b[0;32m    916\u001b[0m     \u001b[39mif\u001b[39;00m \u001b[39misinstance\u001b[39m(data, ABCDataFrame):\n\u001b[1;32m--> 917\u001b[0m         \u001b[39mreturn\u001b[39;00m plot_backend\u001b[39m.\u001b[39mplot(data, x\u001b[39m=\u001b[39mx, y\u001b[39m=\u001b[39my, kind\u001b[39m=\u001b[39mkind, \u001b[39m*\u001b[39m\u001b[39m*\u001b[39mkwargs)\n\u001b[0;32m    918\u001b[0m     \u001b[39melse\u001b[39;00m:\n\u001b[0;32m    919\u001b[0m         \u001b[39mraise\u001b[39;00m \u001b[39mValueError\u001b[39;00m(\u001b[39mf\u001b[39m\u001b[39m\"\u001b[39m\u001b[39mplot kind \u001b[39m\u001b[39m{\u001b[39;00mkind\u001b[39m}\u001b[39;00m\u001b[39m can only be used for data frames\u001b[39m\u001b[39m\"\u001b[39m)\n",
      "File \u001b[1;32mc:\\Users\\crisp\\miniconda3\\lib\\site-packages\\pandas\\plotting\\_matplotlib\\__init__.py:71\u001b[0m, in \u001b[0;36mplot\u001b[1;34m(data, kind, **kwargs)\u001b[0m\n\u001b[0;32m     69\u001b[0m         kwargs[\u001b[39m\"\u001b[39m\u001b[39max\u001b[39m\u001b[39m\"\u001b[39m] \u001b[39m=\u001b[39m \u001b[39mgetattr\u001b[39m(ax, \u001b[39m\"\u001b[39m\u001b[39mleft_ax\u001b[39m\u001b[39m\"\u001b[39m, ax)\n\u001b[0;32m     70\u001b[0m plot_obj \u001b[39m=\u001b[39m PLOT_CLASSES[kind](data, \u001b[39m*\u001b[39m\u001b[39m*\u001b[39mkwargs)\n\u001b[1;32m---> 71\u001b[0m plot_obj\u001b[39m.\u001b[39;49mgenerate()\n\u001b[0;32m     72\u001b[0m plot_obj\u001b[39m.\u001b[39mdraw()\n\u001b[0;32m     73\u001b[0m \u001b[39mreturn\u001b[39;00m plot_obj\u001b[39m.\u001b[39mresult\n",
      "File \u001b[1;32mc:\\Users\\crisp\\miniconda3\\lib\\site-packages\\pandas\\plotting\\_matplotlib\\core.py:329\u001b[0m, in \u001b[0;36mMPLPlot.generate\u001b[1;34m(self)\u001b[0m\n\u001b[0;32m    327\u001b[0m \u001b[39mself\u001b[39m\u001b[39m.\u001b[39m_compute_plot_data()\n\u001b[0;32m    328\u001b[0m \u001b[39mself\u001b[39m\u001b[39m.\u001b[39m_setup_subplots()\n\u001b[1;32m--> 329\u001b[0m \u001b[39mself\u001b[39;49m\u001b[39m.\u001b[39;49m_make_plot()\n\u001b[0;32m    330\u001b[0m \u001b[39mself\u001b[39m\u001b[39m.\u001b[39m_add_table()\n\u001b[0;32m    331\u001b[0m \u001b[39mself\u001b[39m\u001b[39m.\u001b[39m_make_legend()\n",
      "File \u001b[1;32mc:\\Users\\crisp\\miniconda3\\lib\\site-packages\\pandas\\plotting\\_matplotlib\\core.py:1114\u001b[0m, in \u001b[0;36mScatterPlot._make_plot\u001b[1;34m(self)\u001b[0m\n\u001b[0;32m   1112\u001b[0m \u001b[39melse\u001b[39;00m:\n\u001b[0;32m   1113\u001b[0m     label \u001b[39m=\u001b[39m \u001b[39mNone\u001b[39;00m\n\u001b[1;32m-> 1114\u001b[0m scatter \u001b[39m=\u001b[39m ax\u001b[39m.\u001b[39mscatter(\n\u001b[0;32m   1115\u001b[0m     data[x]\u001b[39m.\u001b[39mvalues,\n\u001b[0;32m   1116\u001b[0m     data[y]\u001b[39m.\u001b[39mvalues,\n\u001b[0;32m   1117\u001b[0m     c\u001b[39m=\u001b[39mc_values,\n\u001b[0;32m   1118\u001b[0m     label\u001b[39m=\u001b[39mlabel,\n\u001b[0;32m   1119\u001b[0m     cmap\u001b[39m=\u001b[39mcmap,\n\u001b[0;32m   1120\u001b[0m     norm\u001b[39m=\u001b[39mnorm,\n\u001b[0;32m   1121\u001b[0m     \u001b[39m*\u001b[39m\u001b[39m*\u001b[39m\u001b[39mself\u001b[39m\u001b[39m.\u001b[39mkwds,\n\u001b[0;32m   1122\u001b[0m )\n\u001b[0;32m   1123\u001b[0m \u001b[39mif\u001b[39;00m cb:\n\u001b[0;32m   1124\u001b[0m     cbar_label \u001b[39m=\u001b[39m c \u001b[39mif\u001b[39;00m c_is_column \u001b[39melse\u001b[39;00m \u001b[39m\"\u001b[39m\u001b[39m\"\u001b[39m\n",
      "File \u001b[1;32mc:\\Users\\crisp\\miniconda3\\lib\\site-packages\\matplotlib\\__init__.py:1414\u001b[0m, in \u001b[0;36m_preprocess_data.<locals>.inner\u001b[1;34m(ax, data, *args, **kwargs)\u001b[0m\n\u001b[0;32m   1411\u001b[0m \u001b[39m@functools\u001b[39m\u001b[39m.\u001b[39mwraps(func)\n\u001b[0;32m   1412\u001b[0m \u001b[39mdef\u001b[39;00m \u001b[39minner\u001b[39m(ax, \u001b[39m*\u001b[39margs, data\u001b[39m=\u001b[39m\u001b[39mNone\u001b[39;00m, \u001b[39m*\u001b[39m\u001b[39m*\u001b[39mkwargs):\n\u001b[0;32m   1413\u001b[0m     \u001b[39mif\u001b[39;00m data \u001b[39mis\u001b[39;00m \u001b[39mNone\u001b[39;00m:\n\u001b[1;32m-> 1414\u001b[0m         \u001b[39mreturn\u001b[39;00m func(ax, \u001b[39m*\u001b[39m\u001b[39mmap\u001b[39m(sanitize_sequence, args), \u001b[39m*\u001b[39m\u001b[39m*\u001b[39mkwargs)\n\u001b[0;32m   1416\u001b[0m     bound \u001b[39m=\u001b[39m new_sig\u001b[39m.\u001b[39mbind(ax, \u001b[39m*\u001b[39margs, \u001b[39m*\u001b[39m\u001b[39m*\u001b[39mkwargs)\n\u001b[0;32m   1417\u001b[0m     auto_label \u001b[39m=\u001b[39m (bound\u001b[39m.\u001b[39marguments\u001b[39m.\u001b[39mget(label_namer)\n\u001b[0;32m   1418\u001b[0m                   \u001b[39mor\u001b[39;00m bound\u001b[39m.\u001b[39mkwargs\u001b[39m.\u001b[39mget(label_namer))\n",
      "File \u001b[1;32mc:\\Users\\crisp\\miniconda3\\lib\\site-packages\\matplotlib\\axes\\_axes.py:4362\u001b[0m, in \u001b[0;36mAxes.scatter\u001b[1;34m(self, x, y, s, c, marker, cmap, norm, vmin, vmax, alpha, linewidths, edgecolors, plotnonfinite, **kwargs)\u001b[0m\n\u001b[0;32m   4248\u001b[0m \u001b[39m\"\"\"\u001b[39;00m\n\u001b[0;32m   4249\u001b[0m \u001b[39mA scatter plot of *y* vs. *x* with varying marker size and/or color.\u001b[39;00m\n\u001b[0;32m   4250\u001b[0m \n\u001b[1;32m   (...)\u001b[0m\n\u001b[0;32m   4359\u001b[0m \n\u001b[0;32m   4360\u001b[0m \u001b[39m\"\"\"\u001b[39;00m\n\u001b[0;32m   4361\u001b[0m \u001b[39m# Process **kwargs to handle aliases, conflicts with explicit kwargs:\u001b[39;00m\n\u001b[1;32m-> 4362\u001b[0m x, y \u001b[39m=\u001b[39m \u001b[39mself\u001b[39;49m\u001b[39m.\u001b[39;49m_process_unit_info([(\u001b[39m\"\u001b[39;49m\u001b[39mx\u001b[39;49m\u001b[39m\"\u001b[39;49m, x), (\u001b[39m\"\u001b[39;49m\u001b[39my\u001b[39;49m\u001b[39m\"\u001b[39;49m, y)], kwargs)\n\u001b[0;32m   4363\u001b[0m \u001b[39m# np.ma.ravel yields an ndarray, not a masked array,\u001b[39;00m\n\u001b[0;32m   4364\u001b[0m \u001b[39m# unless its argument is a masked array.\u001b[39;00m\n\u001b[0;32m   4365\u001b[0m x \u001b[39m=\u001b[39m np\u001b[39m.\u001b[39mma\u001b[39m.\u001b[39mravel(x)\n",
      "File \u001b[1;32mc:\\Users\\crisp\\miniconda3\\lib\\site-packages\\matplotlib\\axes\\_base.py:2526\u001b[0m, in \u001b[0;36m_AxesBase._process_unit_info\u001b[1;34m(self, datasets, kwargs, convert)\u001b[0m\n\u001b[0;32m   2524\u001b[0m     \u001b[39m# Update from data if axis is already set but no unit is set yet.\u001b[39;00m\n\u001b[0;32m   2525\u001b[0m     \u001b[39mif\u001b[39;00m axis \u001b[39mis\u001b[39;00m \u001b[39mnot\u001b[39;00m \u001b[39mNone\u001b[39;00m \u001b[39mand\u001b[39;00m data \u001b[39mis\u001b[39;00m \u001b[39mnot\u001b[39;00m \u001b[39mNone\u001b[39;00m \u001b[39mand\u001b[39;00m \u001b[39mnot\u001b[39;00m axis\u001b[39m.\u001b[39mhave_units():\n\u001b[1;32m-> 2526\u001b[0m         axis\u001b[39m.\u001b[39;49mupdate_units(data)\n\u001b[0;32m   2527\u001b[0m \u001b[39mfor\u001b[39;00m axis_name, axis \u001b[39min\u001b[39;00m axis_map\u001b[39m.\u001b[39mitems():\n\u001b[0;32m   2528\u001b[0m     \u001b[39m# Return if no axis is set.\u001b[39;00m\n\u001b[0;32m   2529\u001b[0m     \u001b[39mif\u001b[39;00m axis \u001b[39mis\u001b[39;00m \u001b[39mNone\u001b[39;00m:\n",
      "File \u001b[1;32mc:\\Users\\crisp\\miniconda3\\lib\\site-packages\\matplotlib\\axis.py:1449\u001b[0m, in \u001b[0;36mAxis.update_units\u001b[1;34m(self, data)\u001b[0m\n\u001b[0;32m   1447\u001b[0m neednew \u001b[39m=\u001b[39m \u001b[39mself\u001b[39m\u001b[39m.\u001b[39mconverter \u001b[39m!=\u001b[39m converter\n\u001b[0;32m   1448\u001b[0m \u001b[39mself\u001b[39m\u001b[39m.\u001b[39mconverter \u001b[39m=\u001b[39m converter\n\u001b[1;32m-> 1449\u001b[0m default \u001b[39m=\u001b[39m \u001b[39mself\u001b[39;49m\u001b[39m.\u001b[39;49mconverter\u001b[39m.\u001b[39;49mdefault_units(data, \u001b[39mself\u001b[39;49m)\n\u001b[0;32m   1450\u001b[0m \u001b[39mif\u001b[39;00m default \u001b[39mis\u001b[39;00m \u001b[39mnot\u001b[39;00m \u001b[39mNone\u001b[39;00m \u001b[39mand\u001b[39;00m \u001b[39mself\u001b[39m\u001b[39m.\u001b[39munits \u001b[39mis\u001b[39;00m \u001b[39mNone\u001b[39;00m:\n\u001b[0;32m   1451\u001b[0m     \u001b[39mself\u001b[39m\u001b[39m.\u001b[39mset_units(default)\n",
      "File \u001b[1;32mc:\\Users\\crisp\\miniconda3\\lib\\site-packages\\matplotlib\\category.py:116\u001b[0m, in \u001b[0;36mStrCategoryConverter.default_units\u001b[1;34m(data, axis)\u001b[0m\n\u001b[0;32m    114\u001b[0m \u001b[39m# the conversion call stack is default_units -> axis_info -> convert\u001b[39;00m\n\u001b[0;32m    115\u001b[0m \u001b[39mif\u001b[39;00m axis\u001b[39m.\u001b[39munits \u001b[39mis\u001b[39;00m \u001b[39mNone\u001b[39;00m:\n\u001b[1;32m--> 116\u001b[0m     axis\u001b[39m.\u001b[39mset_units(UnitData(data))\n\u001b[0;32m    117\u001b[0m \u001b[39melse\u001b[39;00m:\n\u001b[0;32m    118\u001b[0m     axis\u001b[39m.\u001b[39munits\u001b[39m.\u001b[39mupdate(data)\n",
      "File \u001b[1;32mc:\\Users\\crisp\\miniconda3\\lib\\site-packages\\matplotlib\\category.py:192\u001b[0m, in \u001b[0;36mUnitData.__init__\u001b[1;34m(self, data)\u001b[0m\n\u001b[0;32m    190\u001b[0m \u001b[39mself\u001b[39m\u001b[39m.\u001b[39m_counter \u001b[39m=\u001b[39m itertools\u001b[39m.\u001b[39mcount()\n\u001b[0;32m    191\u001b[0m \u001b[39mif\u001b[39;00m data \u001b[39mis\u001b[39;00m \u001b[39mnot\u001b[39;00m \u001b[39mNone\u001b[39;00m:\n\u001b[1;32m--> 192\u001b[0m     \u001b[39mself\u001b[39;49m\u001b[39m.\u001b[39;49mupdate(data)\n",
      "File \u001b[1;32mc:\\Users\\crisp\\miniconda3\\lib\\site-packages\\matplotlib\\category.py:227\u001b[0m, in \u001b[0;36mUnitData.update\u001b[1;34m(self, data)\u001b[0m\n\u001b[0;32m    224\u001b[0m convertible \u001b[39m=\u001b[39m \u001b[39mTrue\u001b[39;00m\n\u001b[0;32m    225\u001b[0m \u001b[39mfor\u001b[39;00m val \u001b[39min\u001b[39;00m OrderedDict\u001b[39m.\u001b[39mfromkeys(data):\n\u001b[0;32m    226\u001b[0m     \u001b[39m# OrderedDict just iterates over unique values in data.\u001b[39;00m\n\u001b[1;32m--> 227\u001b[0m     _api\u001b[39m.\u001b[39;49mcheck_isinstance((\u001b[39mstr\u001b[39;49m, \u001b[39mbytes\u001b[39;49m), value\u001b[39m=\u001b[39;49mval)\n\u001b[0;32m    228\u001b[0m     \u001b[39mif\u001b[39;00m convertible:\n\u001b[0;32m    229\u001b[0m         \u001b[39m# this will only be called so long as convertible is True.\u001b[39;00m\n\u001b[0;32m    230\u001b[0m         convertible \u001b[39m=\u001b[39m \u001b[39mself\u001b[39m\u001b[39m.\u001b[39m_str_is_convertible(val)\n",
      "File \u001b[1;32mc:\\Users\\crisp\\miniconda3\\lib\\site-packages\\matplotlib\\_api\\__init__.py:93\u001b[0m, in \u001b[0;36mcheck_isinstance\u001b[1;34m(_types, **kwargs)\u001b[0m\n\u001b[0;32m     91\u001b[0m     names\u001b[39m.\u001b[39mremove(\u001b[39m\"\u001b[39m\u001b[39mNone\u001b[39m\u001b[39m\"\u001b[39m)\n\u001b[0;32m     92\u001b[0m     names\u001b[39m.\u001b[39mappend(\u001b[39m\"\u001b[39m\u001b[39mNone\u001b[39m\u001b[39m\"\u001b[39m)\n\u001b[1;32m---> 93\u001b[0m \u001b[39mraise\u001b[39;00m \u001b[39mTypeError\u001b[39;00m(\n\u001b[0;32m     94\u001b[0m     \u001b[39m\"\u001b[39m\u001b[39m{!r}\u001b[39;00m\u001b[39m must be an instance of \u001b[39m\u001b[39m{}\u001b[39;00m\u001b[39m, not a \u001b[39m\u001b[39m{}\u001b[39;00m\u001b[39m\"\u001b[39m\u001b[39m.\u001b[39mformat(\n\u001b[0;32m     95\u001b[0m         k,\n\u001b[0;32m     96\u001b[0m         \u001b[39m\"\u001b[39m\u001b[39m, \u001b[39m\u001b[39m\"\u001b[39m\u001b[39m.\u001b[39mjoin(names[:\u001b[39m-\u001b[39m\u001b[39m1\u001b[39m]) \u001b[39m+\u001b[39m \u001b[39m\"\u001b[39m\u001b[39m or \u001b[39m\u001b[39m\"\u001b[39m \u001b[39m+\u001b[39m names[\u001b[39m-\u001b[39m\u001b[39m1\u001b[39m]\n\u001b[0;32m     97\u001b[0m         \u001b[39mif\u001b[39;00m \u001b[39mlen\u001b[39m(names) \u001b[39m>\u001b[39m \u001b[39m1\u001b[39m \u001b[39melse\u001b[39;00m names[\u001b[39m0\u001b[39m],\n\u001b[0;32m     98\u001b[0m         type_name(\u001b[39mtype\u001b[39m(v))))\n",
      "\u001b[1;31mTypeError\u001b[0m: 'value' must be an instance of str or bytes, not a int"
     ]
    },
    {
     "data": {
      "image/png": "[encoded data removed]",
      "text/plain": [
       "<Figure size 640x480 with 1 Axes>"
      ]
     },
     "metadata": {},
     "output_type": "display_data"
    },
    {
     "data": {
      "image/png": "[encoded data removed]",
      "text/plain": [
       "<Figure size 640x480 with 1 Axes>"
      ]
     },
     "metadata": {},
     "output_type": "display_data"
    }
   ],
   "source": [
    "plt.title('Enrolled per Year')\n",
    "\n",
    "clean_data.plot(kind='scatter', x='Enrolled', y='Year')\n",
    "\n",
    "\n",
    "#sns.scatterplot(data=clean_data, x='Enrolled', y='Year')"
   ]
  },
  {
   "cell_type": "markdown",
   "metadata": {},
   "source": [
    "Ok that is really rough looking but it does work. Lets try limiting it"
   ]
  },
  {
   "cell_type": "code",
   "execution_count": null,
   "metadata": {},
   "outputs": [
    {
     "data": {
      "text/plain": [
       "<AxesSubplot:xlabel='Enrolled', ylabel='Year'>"
      ]
     },
     "execution_count": 149,
     "metadata": {},
     "output_type": "execute_result"
    },
    {
     "data": {
      "image/png": "[encoded data removed]",
      "text/plain": [
       "<Figure size 640x480 with 1 Axes>"
      ]
     },
     "metadata": {},
     "output_type": "display_data"
    }
   ],
   "source": [
    "\n",
    "year = clean_data[['Year']]\n",
    "\n",
    "\n",
    "clean_data.plot(kind='scatter', x='Enrolled', y='Year')\n"
   ]
  },
  {
   "cell_type": "markdown",
   "metadata": {},
   "source": [
    "# Task 3: Method Chaining"
   ]
  }
 ],
 "metadata": {
  "kernelspec": {
   "display_name": "Python 3.9.12 ('base')",
   "language": "python",
   "name": "python3"
  },
  "language_info": {
   "codemirror_mode": {
    "name": "ipython",
    "version": 3
   },
   "file_extension": ".py",
   "mimetype": "text/x-python",
   "name": "python",
   "nbconvert_exporter": "python",
   "pygments_lexer": "ipython3",
   "version": "3.9.12"
  },
  "orig_nbformat": 4,
  "vscode": {
   "interpreter": {
    "hash": "6d31aad7397ab1370c749a20ff0cd053d886480c66d9a5184ec6922ecf583554"
   }
  }
 },
 "nbformat": 4,
 "nbformat_minor": 2
}
