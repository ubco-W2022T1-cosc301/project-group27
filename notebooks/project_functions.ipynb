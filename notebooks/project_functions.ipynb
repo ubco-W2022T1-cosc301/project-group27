{
 "cells": [
  {
   "cell_type": "code",
   "execution_count": null,
   "metadata": {},
   "outputs": [],
   "source": [
    "import pandas as pd\n",
    "\n",
    "def reading(raw):\n",
    "    df = pd.read_csv(raw)\n",
    "    clean = df.copy().drop(['Remove', 'Source.Name','SourceFile', 'Other', 'Std Dev', 'Audit'], axis=1).drop(clean[clean.Campus == 'Campus'].index).astype(str)"
   ]
  }
 ],
 "metadata": {
  "kernelspec": {
   "display_name": "Python 3.9.12 ('base')",
   "language": "python",
   "name": "python3"
  },
  "language_info": {
   "name": "python",
   "version": "3.9.12"
  },
  "orig_nbformat": 4,
  "vscode": {
   "interpreter": {
    "hash": "6d31aad7397ab1370c749a20ff0cd053d886480c66d9a5184ec6922ecf583554"
   }
  }
 },
 "nbformat": 4,
 "nbformat_minor": 2
}
